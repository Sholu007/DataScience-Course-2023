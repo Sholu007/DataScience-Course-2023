{
 "cells": [
  {
   "cell_type": "code",
   "execution_count": 1,
   "id": "70d513c5",
   "metadata": {},
   "outputs": [
    {
     "name": "stdout",
     "output_type": "stream",
     "text": [
      "Hello World!\n"
     ]
    }
   ],
   "source": [
    "print(\"Hello World!\")"
   ]
  },
  {
   "cell_type": "code",
   "execution_count": 3,
   "id": "ebd61280",
   "metadata": {},
   "outputs": [
    {
     "name": "stdout",
     "output_type": "stream",
     "text": [
      "Sohail Mustafa\n"
     ]
    }
   ],
   "source": [
    "print(\"Sohail Mustafa\")"
   ]
  },
  {
   "cell_type": "code",
   "execution_count": 9,
   "id": "7f231245",
   "metadata": {},
   "outputs": [
    {
     "data": {
      "text/plain": [
       "35"
      ]
     },
     "execution_count": 9,
     "metadata": {},
     "output_type": "execute_result"
    }
   ],
   "source": [
    "25+10"
   ]
  },
  {
   "cell_type": "code",
   "execution_count": 7,
   "id": "6d83403a",
   "metadata": {},
   "outputs": [
    {
     "ename": "NameError",
     "evalue": "name 'ctrl' is not defined",
     "output_type": "error",
     "traceback": [
      "\u001b[1;31m---------------------------------------------------------------------------\u001b[0m",
      "\u001b[1;31mNameError\u001b[0m                                 Traceback (most recent call last)",
      "Cell \u001b[1;32mIn[7], line 1\u001b[0m\n\u001b[1;32m----> 1\u001b[0m ctrl \u001b[38;5;241m+\u001b[39m enter \u001b[38;5;241m/\u001b[39m Execute\n",
      "\u001b[1;31mNameError\u001b[0m: name 'ctrl' is not defined"
     ]
    }
   ],
   "source": [
    "ctrl + enter = Execute\n",
    "shift + enter = Run Execute\n",
    "esc+a = add a cell above the current cell \n",
    "esc+b = add a cell below the current cell\n",
    "esc+d+d = delete the selected cell "
   ]
  },
  {
   "cell_type": "code",
   "execution_count": 1,
   "id": "89fbea88",
   "metadata": {},
   "outputs": [
    {
     "data": {
      "text/plain": [
       "25"
      ]
     },
     "execution_count": 1,
     "metadata": {},
     "output_type": "execute_result"
    }
   ],
   "source": [
    "15+10"
   ]
  },
  {
   "cell_type": "code",
   "execution_count": null,
   "id": "7a2c674d",
   "metadata": {},
   "outputs": [],
   "source": []
  }
 ],
 "metadata": {
  "kernelspec": {
   "display_name": "Python 3 (ipykernel)",
   "language": "python",
   "name": "python3"
  },
  "language_info": {
   "codemirror_mode": {
    "name": "ipython",
    "version": 3
   },
   "file_extension": ".py",
   "mimetype": "text/x-python",
   "name": "python",
   "nbconvert_exporter": "python",
   "pygments_lexer": "ipython3",
   "version": "3.11.5"
  }
 },
 "nbformat": 4,
 "nbformat_minor": 5
}
